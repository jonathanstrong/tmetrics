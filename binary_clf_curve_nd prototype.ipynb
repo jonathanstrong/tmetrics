{
 "cells": [
  {
   "cell_type": "code",
   "execution_count": 1,
   "metadata": {
    "collapsed": true
   },
   "outputs": [],
   "source": [
    "import numpy as np"
   ]
  },
  {
   "cell_type": "code",
   "execution_count": 175,
   "metadata": {
    "collapsed": false
   },
   "outputs": [],
   "source": [
    "def _last_axis_binary_clf_curve(y_true, y_predicted):\n",
    "    \"\"\"\n",
    "    returns y_predicted.shape[-2] binary clf curves calculated axis[-1]-wise\n",
    "\n",
    "    \"\"\"\n",
    "    assert y_true.shape == y_predicted.shape\n",
    "    axis = -1\n",
    "    sort_idx = list(np.ogrid[[slice(x) for x in predicted.shape]])\n",
    "    sort_idx[axis] = predicted.argsort(axis=axis)\n",
    "    reverse = [slice(None)] * predicted.ndim\n",
    "    reverse[axis] = slice(None, None, -1)\n",
    "    sorted_y_predicted = predicted[sort_idx][reverse]\n",
    "    sorted_y_true = true[sort_idx][reverse]\n",
    "\n",
    "\n",
    "    tps = sorted_y_true.cumsum(axis=axis)\n",
    "    count = (np.ones(y_predicted.shape) * np.arange(y_predicted.shape[-1]))\n",
    "    fps = 1 + count - tps\n",
    "    threshold_values = sorted_y_predicted\n",
    "\n",
    "    return fps, tps, threshold_values\n",
    "\n",
    "def last_axis_roc_curve(y_true, y_predicted):\n",
    "    fps, tps, thresholds = _last_axis_binary_clf_curve(y_true, y_predicted)\n",
    "    i = [slice(None)] * fps.ndim\n",
    "    i[-1] = -1\n",
    "    fpr = fps.astype('float32') / fps[i][:, np.newaxis]\n",
    "    tpr = tps.astype('float32') / tps[i][:, np.newaxis]\n",
    "    return fpr, tpr, thresholds\n",
    " "
   ]
  },
  {
   "cell_type": "code",
   "execution_count": 179,
   "metadata": {
    "collapsed": false
   },
   "outputs": [
    {
     "name": "stdout",
     "output_type": "stream",
     "text": [
      "[[0 0 1 1 0 1 0 0 1 0]\n",
      " [0 1 1 0 0 1 1 1 0 1]]\n",
      "[[ 0.33675335  0.99791057  0.85496188  0.46930929  0.66810304  0.2796852\n",
      "   0.95192796  0.50157568  0.89468309  0.3586071 ]\n",
      " [ 0.76556221  0.25490741  0.65876228  0.34060118  0.2203393   0.13465922\n",
      "   0.68278155  0.69037581  0.37279552  0.9754339 ]]\n"
     ]
    }
   ],
   "source": [
    "true = np.random.binomial(n=1, p=.5, size=(2, 10))\n",
    "predicted = np.random.random((2, 10))\n",
    "print true\n",
    "print predicted"
   ]
  },
  {
   "cell_type": "code",
   "execution_count": 174,
   "metadata": {
    "collapsed": false
   },
   "outputs": [
    {
     "data": {
      "text/plain": [
       "array([[1, 2, 2],\n",
       "       [0, 1, 2]])"
      ]
     },
     "execution_count": 174,
     "metadata": {},
     "output_type": "execute_result"
    }
   ],
   "source": [
    "a = np.asarray([[1, 1, 0],\n",
    "                [0, 1, 1]])\n",
    "a.cumsum(axis=-1)"
   ]
  },
  {
   "cell_type": "code",
   "execution_count": 180,
   "metadata": {
    "collapsed": false,
    "scrolled": false
   },
   "outputs": [
    {
     "name": "stdout",
     "output_type": "stream",
     "text": [
      "fps\n",
      "[[ 1.  2.  2.  2.  3.  4.  4.  5.  6.  6.]\n",
      " [ 0.  1.  1.  1.  1.  2.  3.  3.  4.  4.]]\n",
      "tps\n",
      "[[0 0 1 2 2 2 3 3 3 4]\n",
      " [1 1 2 3 4 4 4 5 5 6]]\n",
      "thresh\n",
      "[[ 0.99791057  0.95192796  0.89468309  0.85496188  0.66810304  0.50157568\n",
      "   0.46930929  0.3586071   0.33675335  0.2796852 ]\n",
      " [ 0.9754339   0.76556221  0.69037581  0.68278155  0.65876228  0.37279552\n",
      "   0.34060118  0.25490741  0.2203393   0.13465922]]\n",
      "fpr\n",
      "[[ 0.16666667  0.33333333  0.33333333  0.33333333  0.5         0.66666667\n",
      "   0.66666667  0.83333333  1.          1.        ]\n",
      " [ 0.          0.25        0.25        0.25        0.25        0.5         0.75\n",
      "   0.75        1.          1.        ]]\n",
      "tpr\n",
      "[[ 0.          0.          0.25        0.5         0.5         0.5         0.75\n",
      "   0.75        0.75        1.        ]\n",
      " [ 0.16666667  0.16666667  0.33333333  0.5         0.66666667  0.66666667\n",
      "   0.66666667  0.83333333  0.83333333  1.        ]]\n"
     ]
    }
   ],
   "source": [
    "fps, tps, thresh = _last_axis_binary_clf_curve(true, predicted)\n",
    "print 'fps'\n",
    "print fps\n",
    "print 'tps'\n",
    "print tps\n",
    "print 'thresh'\n",
    "print thresh\n",
    "#i = [slice(None)] * fps.ndim\n",
    "#i[-1] = -1\n",
    "#print fps / fps[i][:, np.newaxis]\n",
    "fpr, tpr, thresh2 = last_axis_roc_curve(true, predicted)\n",
    "print 'fpr'\n",
    "print fpr\n",
    "print 'tpr'\n",
    "print tpr\n"
   ]
  },
  {
   "cell_type": "code",
   "execution_count": 181,
   "metadata": {
    "collapsed": false
   },
   "outputs": [
    {
     "data": {
      "text/plain": [
       "array([ 0.41666667,  0.58333333])"
      ]
     },
     "execution_count": 181,
     "metadata": {},
     "output_type": "execute_result"
    }
   ],
   "source": [
    "np.trapz(tpr, fpr)"
   ]
  },
  {
   "cell_type": "code",
   "execution_count": 142,
   "metadata": {
    "collapsed": false
   },
   "outputs": [
    {
     "data": {
      "text/plain": [
       "(2, 3, 4, 5)"
      ]
     },
     "execution_count": 142,
     "metadata": {},
     "output_type": "execute_result"
    }
   ],
   "source": [
    "fps.shape"
   ]
  },
  {
   "cell_type": "code",
   "execution_count": 5,
   "metadata": {
    "collapsed": false
   },
   "outputs": [
    {
     "data": {
      "text/plain": [
       "2"
      ]
     },
     "execution_count": 5,
     "metadata": {},
     "output_type": "execute_result"
    }
   ],
   "source": [
    "predicted.ndim"
   ]
  },
  {
   "cell_type": "code",
   "execution_count": 6,
   "metadata": {
    "collapsed": true
   },
   "outputs": [],
   "source": [
    "axis = -1"
   ]
  },
  {
   "cell_type": "code",
   "execution_count": 18,
   "metadata": {
    "collapsed": false
   },
   "outputs": [
    {
     "data": {
      "text/plain": [
       "[slice(None, None, None), array([[0, 2, 1],\n",
       "        [0, 1, 2]])]"
      ]
     },
     "execution_count": 18,
     "metadata": {},
     "output_type": "execute_result"
    }
   ],
   "source": [
    "sort_idx[axis] = predicted.argsort(axis=axis)\n",
    "sort_idx"
   ]
  },
  {
   "cell_type": "code",
   "execution_count": 19,
   "metadata": {
    "collapsed": false
   },
   "outputs": [
    {
     "data": {
      "text/plain": [
       "array([[[ 0.0722574 ,  0.27311446,  0.77148499],\n",
       "        [ 0.0722574 ,  0.77148499,  0.27311446]],\n",
       "\n",
       "       [[ 0.29435724,  0.97089053,  0.62205234],\n",
       "        [ 0.29435724,  0.62205234,  0.97089053]]])"
      ]
     },
     "execution_count": 19,
     "metadata": {},
     "output_type": "execute_result"
    }
   ],
   "source": [
    "predicted[sort_idx]"
   ]
  },
  {
   "cell_type": "code",
   "execution_count": 9,
   "metadata": {
    "collapsed": false
   },
   "outputs": [
    {
     "data": {
      "text/plain": [
       "array([[[0, 0, 1, 1, 0],\n",
       "        [0, 0, 1, 1, 0]],\n",
       "\n",
       "       [[0, 1, 0, 0, 0],\n",
       "        [0, 0, 0, 0, 1]]])"
      ]
     },
     "execution_count": 9,
     "metadata": {},
     "output_type": "execute_result"
    }
   ],
   "source": [
    "true[sort_idx]"
   ]
  },
  {
   "cell_type": "code",
   "execution_count": 10,
   "metadata": {
    "collapsed": false
   },
   "outputs": [
    {
     "data": {
      "text/plain": [
       "array([[[0, 0, 1, 2, 2],\n",
       "        [0, 0, 1, 2, 2]],\n",
       "\n",
       "       [[0, 1, 1, 1, 1],\n",
       "        [0, 0, 0, 0, 1]]])"
      ]
     },
     "execution_count": 10,
     "metadata": {},
     "output_type": "execute_result"
    }
   ],
   "source": [
    "true[sort_idx].cumsum(axis=axis)"
   ]
  },
  {
   "cell_type": "code",
   "execution_count": 11,
   "metadata": {
    "collapsed": false
   },
   "outputs": [
    {
     "data": {
      "text/plain": [
       "array([[0, 0, 1, 0, 1],\n",
       "       [1, 0, 0, 0, 0]])"
      ]
     },
     "execution_count": 11,
     "metadata": {},
     "output_type": "execute_result"
    }
   ],
   "source": [
    "true"
   ]
  },
  {
   "cell_type": "code",
   "execution_count": 12,
   "metadata": {
    "collapsed": false
   },
   "outputs": [
    {
     "data": {
      "text/plain": [
       "array([[ 0.98754118,  0.02636933,  0.81213639,  0.03802334,  0.25226396],\n",
       "       [ 0.71941426,  0.10981821,  0.72675193,  0.97651941,  0.96657049]])"
      ]
     },
     "execution_count": 12,
     "metadata": {},
     "output_type": "execute_result"
    }
   ],
   "source": [
    "predicted"
   ]
  },
  {
   "cell_type": "code",
   "execution_count": 26,
   "metadata": {
    "collapsed": false
   },
   "outputs": [
    {
     "data": {
      "text/plain": [
       "(2, 2, 3)"
      ]
     },
     "execution_count": 26,
     "metadata": {},
     "output_type": "execute_result"
    }
   ],
   "source": [
    "predicted[..., predicted.argsort()].shape"
   ]
  },
  {
   "cell_type": "code",
   "execution_count": 27,
   "metadata": {
    "collapsed": false
   },
   "outputs": [
    {
     "data": {
      "text/plain": [
       "array([[ 0.0722574 ,  0.27311446,  0.77148499],\n",
       "       [ 0.29435724,  0.62205234,  0.97089053]])"
      ]
     },
     "execution_count": 27,
     "metadata": {},
     "output_type": "execute_result"
    }
   ],
   "source": [
    "predicted[np.asarray([[0,0,0],[1,1,1]]), predicted.argsort()]"
   ]
  },
  {
   "cell_type": "code",
   "execution_count": 31,
   "metadata": {
    "collapsed": false
   },
   "outputs": [
    {
     "ename": "IndexError",
     "evalue": "index 2 is out of bounds for axis 0 with size 2",
     "output_type": "error",
     "traceback": [
      "\u001b[1;31m---------------------------------------------------------------------------\u001b[0m",
      "\u001b[1;31mIndexError\u001b[0m                                Traceback (most recent call last)",
      "\u001b[1;32m<ipython-input-31-ea431f594f87>\u001b[0m in \u001b[0;36m<module>\u001b[1;34m()\u001b[0m\n\u001b[1;32m----> 1\u001b[1;33m \u001b[0mnp\u001b[0m\u001b[1;33m.\u001b[0m\u001b[0mchoose\u001b[0m\u001b[1;33m(\u001b[0m\u001b[0mpredicted\u001b[0m\u001b[1;33m.\u001b[0m\u001b[0margsort\u001b[0m\u001b[1;33m(\u001b[0m\u001b[1;33m)\u001b[0m\u001b[1;33m,\u001b[0m \u001b[0mpredicted\u001b[0m\u001b[1;33m[\u001b[0m\u001b[0mpredicted\u001b[0m\u001b[1;33m.\u001b[0m\u001b[0margsort\u001b[0m\u001b[1;33m(\u001b[0m\u001b[1;33m)\u001b[0m\u001b[1;33m]\u001b[0m\u001b[1;33m)\u001b[0m\u001b[1;33m\u001b[0m\u001b[0m\n\u001b[0m",
      "\u001b[1;31mIndexError\u001b[0m: index 2 is out of bounds for axis 0 with size 2"
     ]
    }
   ],
   "source": [
    "np.choose(predicted.argsort(), predicted)"
   ]
  },
  {
   "cell_type": "code",
   "execution_count": 32,
   "metadata": {
    "collapsed": false
   },
   "outputs": [
    {
     "data": {
      "text/plain": [
       "(2, 3)"
      ]
     },
     "execution_count": 32,
     "metadata": {},
     "output_type": "execute_result"
    }
   ],
   "source": [
    "predicted.argsort().shape"
   ]
  },
  {
   "cell_type": "code",
   "execution_count": 39,
   "metadata": {
    "collapsed": false
   },
   "outputs": [
    {
     "data": {
      "text/plain": [
       "(array([0, 0, 1, 1]), array([1, 2, 1, 2]))"
      ]
     },
     "execution_count": 39,
     "metadata": {},
     "output_type": "execute_result"
    }
   ],
   "source": [
    "np.where(predicted.argsort())"
   ]
  },
  {
   "cell_type": "code",
   "execution_count": 40,
   "metadata": {
    "collapsed": false
   },
   "outputs": [
    {
     "data": {
      "text/plain": [
       "array([[0, 2, 1],\n",
       "       [0, 1, 2]])"
      ]
     },
     "execution_count": 40,
     "metadata": {},
     "output_type": "execute_result"
    }
   ],
   "source": [
    "predicted.argsort()"
   ]
  },
  {
   "cell_type": "code",
   "execution_count": 45,
   "metadata": {
    "collapsed": false
   },
   "outputs": [
    {
     "ename": "IndexError",
     "evalue": "shape mismatch: indexing arrays could not be broadcast together with shapes (1,2) (2,3) ",
     "output_type": "error",
     "traceback": [
      "\u001b[1;31m---------------------------------------------------------------------------\u001b[0m",
      "\u001b[1;31mIndexError\u001b[0m                                Traceback (most recent call last)",
      "\u001b[1;32m<ipython-input-45-7daf4d1f3482>\u001b[0m in \u001b[0;36m<module>\u001b[1;34m()\u001b[0m\n\u001b[1;32m----> 1\u001b[1;33m \u001b[0mpredicted\u001b[0m\u001b[1;33m[\u001b[0m\u001b[0mnp\u001b[0m\u001b[1;33m.\u001b[0m\u001b[0mogrid\u001b[0m\u001b[1;33m[\u001b[0m\u001b[1;36m0\u001b[0m\u001b[1;33m:\u001b[0m\u001b[0mpredicted\u001b[0m\u001b[1;33m.\u001b[0m\u001b[0mshape\u001b[0m\u001b[1;33m[\u001b[0m\u001b[1;36m0\u001b[0m\u001b[1;33m]\u001b[0m\u001b[1;33m,\u001b[0m \u001b[1;33m]\u001b[0m\u001b[1;33m,\u001b[0m \u001b[0mpredicted\u001b[0m\u001b[1;33m.\u001b[0m\u001b[0margsort\u001b[0m\u001b[1;33m(\u001b[0m\u001b[1;33m)\u001b[0m\u001b[1;33m]\u001b[0m\u001b[1;33m\u001b[0m\u001b[0m\n\u001b[0m",
      "\u001b[1;31mIndexError\u001b[0m: shape mismatch: indexing arrays could not be broadcast together with shapes (1,2) (2,3) "
     ]
    }
   ],
   "source": [
    "predicted[np.ogrid[0:predicted.shape[0], ], predicted.argsort()]"
   ]
  },
  {
   "cell_type": "code",
   "execution_count": 91,
   "metadata": {
    "collapsed": false
   },
   "outputs": [
    {
     "data": {
      "text/plain": [
       "array([[ 0.07952977,  0.67182169,  0.95863163],\n",
       "       [ 0.01306065,  0.0049748 ,  0.96606391]])"
      ]
     },
     "execution_count": 91,
     "metadata": {},
     "output_type": "execute_result"
    }
   ],
   "source": [
    "predicted"
   ]
  },
  {
   "cell_type": "code",
   "execution_count": 100,
   "metadata": {
    "collapsed": false
   },
   "outputs": [
    {
     "data": {
      "text/plain": [
       "array([[ 0.95863163,  0.67182169,  0.07952977],\n",
       "       [ 0.96606391,  0.01306065,  0.0049748 ]])"
      ]
     },
     "execution_count": 100,
     "metadata": {},
     "output_type": "execute_result"
    }
   ],
   "source": [
    "import copy\n",
    "axis = -1\n",
    "i = list(np.ogrid[[slice(x) for x in predicted.shape]])\n",
    "reverse = [slice(None)] * predicted.ndim\n",
    "reverse[axis] = slice(None, None, -1)\n",
    "i[axis] = predicted.argsort(axis=axis)\n",
    "\n",
    "predicted[i][reverse]"
   ]
  },
  {
   "cell_type": "code",
   "execution_count": 48,
   "metadata": {
    "collapsed": true
   },
   "outputs": [],
   "source": [
    "i[axis] = predicted.argsort(axis=axis)"
   ]
  },
  {
   "cell_type": "code",
   "execution_count": 49,
   "metadata": {
    "collapsed": false
   },
   "outputs": [
    {
     "data": {
      "text/plain": [
       "array([[ 0.0722574 ,  0.27311446,  0.77148499],\n",
       "       [ 0.29435724,  0.62205234,  0.97089053]])"
      ]
     },
     "execution_count": 49,
     "metadata": {},
     "output_type": "execute_result"
    }
   ],
   "source": [
    "predicted[i]"
   ]
  },
  {
   "cell_type": "code",
   "execution_count": 92,
   "metadata": {
    "collapsed": false
   },
   "outputs": [
    {
     "data": {
      "text/plain": [
       "(2, 3)"
      ]
     },
     "execution_count": 92,
     "metadata": {},
     "output_type": "execute_result"
    }
   ],
   "source": [
    "predicted.argsort().shape"
   ]
  },
  {
   "cell_type": "code",
   "execution_count": 93,
   "metadata": {
    "collapsed": false
   },
   "outputs": [
    {
     "data": {
      "text/plain": [
       "array([[0, 1, 2],\n",
       "       [1, 0, 2]])"
      ]
     },
     "execution_count": 93,
     "metadata": {},
     "output_type": "execute_result"
    }
   ],
   "source": [
    "predicted.argsort()"
   ]
  },
  {
   "cell_type": "code",
   "execution_count": 94,
   "metadata": {
    "collapsed": false
   },
   "outputs": [
    {
     "data": {
      "text/plain": [
       "array([[1, 0, 2],\n",
       "       [0, 1, 2]])"
      ]
     },
     "execution_count": 94,
     "metadata": {},
     "output_type": "execute_result"
    }
   ],
   "source": [
    "predicted.argsort()[::-1]"
   ]
  },
  {
   "cell_type": "code",
   "execution_count": 95,
   "metadata": {
    "collapsed": false
   },
   "outputs": [
    {
     "data": {
      "text/plain": [
       "array([[ 0.95863163,  0.67182169,  0.07952977],\n",
       "       [ 0.96606391,  0.0049748 ,  0.01306065]])"
      ]
     },
     "execution_count": 95,
     "metadata": {},
     "output_type": "execute_result"
    }
   ],
   "source": []
  },
  {
   "cell_type": "code",
   "execution_count": null,
   "metadata": {
    "collapsed": true
   },
   "outputs": [],
   "source": []
  }
 ],
 "metadata": {
  "kernelspec": {
   "display_name": "Python 2",
   "language": "python",
   "name": "python2"
  },
  "language_info": {
   "codemirror_mode": {
    "name": "ipython",
    "version": 2
   },
   "file_extension": ".py",
   "mimetype": "text/x-python",
   "name": "python",
   "nbconvert_exporter": "python",
   "pygments_lexer": "ipython2",
   "version": "2.7.6"
  }
 },
 "nbformat": 4,
 "nbformat_minor": 0
}
